{
 "cells": [
  {
   "cell_type": "code",
   "execution_count": 7,
   "metadata": {},
   "outputs": [],
   "source": [
    "import numpy as np\n",
    "import pandas as pd\n",
    "import scipy as sp\n",
    "import matplotlib.pyplot as plt"
   ]
  },
  {
   "cell_type": "code",
   "execution_count": 8,
   "metadata": {},
   "outputs": [],
   "source": [
    "\n",
    "names = ['g', 'P', 'rho', 'r', 'T', 'Tm', 'Cp', 'alpha', 'gamma', 'Kt', 'Ka', 'G', 'sigma', 'phase']\n",
    "\n",
    "titles =  [\n",
    "    'Gravity', 'Pressure', 'Density', 'Temperature', 'Melt Temperature', 'Heat Capacity',\n",
    "    'Thermal Expansivity', 'Grüneisen Parameter', 'Isothermal Bulk Modulus', \n",
    "    'Adiabatic Bulk Modulus', 'Shear Modulus', 'Electrical Conductivity', 'Material Phase Number'\n",
    "]\n",
    "\n",
    "profs = [\n",
    "    'M1_Fe30_sFe6-5_pprofs.res', 'M1_Fe60_sFe6-5_pprofs.res', 'M2_Fe30_sFe6-5_pprofs.res',\n",
    "    'M2_Fe60_sFe6-5_pprofs.res', 'M3_Fe30_sFe6-5_pprofs.res', 'M3_Fe60_sFe6-5_pprofs.res',\n",
    "    'M4_Fe30_sFe6-5_pprofs.res', 'M4_Fe60_sFe6-5_pprofs.res', 'M5_Fe30_sFe6-5_pprofs.res',\n",
    "    'M5_Fe60_sFe6-5_pprofs.res'\n",
    "]\n",
    "\n",
    "lbl = [r'1 M  30% Fe', r'1 M  60% Fe', r'2 M  30% Fe', r'2 M  60% Fe', r'3 M  30% Fe',\n",
    "    r'3 M  60% Fe', r'4 M  30% Fe', r'4 M  60% Fe', r'5 M  30% Fe', r'5 M  60% Fe'\n",
    "       ]\n",
    "\n",
    "clrs= np.array([[255, 195, 0], [255, 87, 51], [199, 0, 57], [144, 12, 63], [88, 24, 69]]) / 255\n",
    "\n",
    "# from profs.res load the data as a dataframe with 14 columns that are delimitered by whitespace\n",
    "planets = {}\n",
    "labels = {}\n",
    "for prof in profs:\n",
    "    df = pd.read_csv(prof,delimiter=r'\\s+', names=names)\n",
    "    for i in range(len(df['phase'])):\n",
    "        if df['phase'][i] == 8.0:\n",
    "            cmb = i\n",
    "            # delete all values after index cmb\n",
    "            break\n",
    "    df = df.drop(df.index[:cmb])\n",
    "    i = profs.index(prof)\n",
    "    # convert the index from 0 to 511\n",
    "    ncmb = 1000-cmb\n",
    "    df.index = range(0,ncmb)\n",
    "    reverse = df[::-1]\n",
    "\n",
    "    # corrections\n",
    "    df['n'] = ncmb\n",
    "    df['r'] = df['r']-df['r'][ncmb-1]\n",
    "    df['P'] = df['P']*1.0e9\n",
    "    df['alpha'] = df['alpha']*1.0e-5\n",
    "    prof = prof[0:6]\n",
    "    planets[prof] = df\n",
    "    labels[prof] = lbl[i]\n"
   ]
  },
  {
   "cell_type": "code",
   "execution_count": 9,
   "metadata": {},
   "outputs": [
    {
     "name": "stdout",
     "output_type": "stream",
     "text": [
      "489\n",
      "3062904.1492402\n",
      "QS1: -3331640.1279026377\n",
      "QS2: -0.9803582862427965\n",
      "QS1-QS2: 100.0%\n",
      "q_ad: 0.00011840062792265805\n"
     ]
    }
   ],
   "source": [
    "prof = 'M1_Fe3'\n",
    "T = planets[prof]['T']\n",
    "r = planets[prof]['r']\n",
    "rho = planets[prof]['rho']\n",
    "Cp = planets[prof]['Cp']\n",
    "r = r[::-1]\n",
    "Tc = planets[prof]['T'][0]\n",
    "dr = r[0]-r[1]\n",
    "n = len(r)-1\n",
    "\n",
    "rho_c = rho[n]\n",
    "Cp_c = Cp[n]\n",
    "\n",
    "dTcdt = -5 * 1.0e-16\n",
    "\n",
    "Vc = 4/3*np.pi*r[0]**3\n",
    "\n",
    "QS1 = Vc * rho_c * Cp_c * sp.integrate.simpson(T,x=r,dx=dr)/Tc * 1.0e-12 * dTcdt\n",
    "QS2 = 4*np.pi*sp.integrate.simpson(Cp*rho*T*r**2,x=r,dx=dr)/Tc * 1.0e-12 * dTcdt\n",
    "\n",
    "print(len(r))\n",
    "print(r[0])\n",
    "print(f\"QS1: {QS1}\")\n",
    "print(f\"QS2: {QS2}\")\n",
    "print(f\"QS1-QS2: {round((QS1-QS2)/QS1*100,2)}%\")\n",
    "\n",
    "qad = 125 * planets[prof]['alpha'][n] * planets[prof]['g'][n] / planets[prof]['Cp'][n] * planets[prof]['T'][n]\n",
    "print(f\"q_ad: {qad}\")"
   ]
  },
  {
   "cell_type": "code",
   "execution_count": 10,
   "metadata": {},
   "outputs": [
    {
     "name": "stdout",
     "output_type": "stream",
     "text": [
      "Found Tc: 4173.465494294963 K\n",
      "2.311689968337305e-07\n"
     ]
    }
   ],
   "source": [
    "rtc = 3041843.3227286106\n",
    "rc = 60.0+rtc\n",
    "rb = 24905.865608419765+rc+rtc\n",
    "km = 9.9273790821881729 \n",
    "rhom = 5536.0  \n",
    "rhoc = 11546.0\n",
    "Hc = 1.0e-12\n",
    "Hm = 2.0e-12\n",
    "kc = 125.0\n",
    "Tb = 4173.3167184879076 \n",
    "\n",
    "Ttc = 4173.4654945261318\n",
    "\n",
    "# Placeholder values\n",
    "c1m = 0.0\n",
    "c0m = 0.0\n",
    "c1c = 0.0\n",
    "c0c = 0.0\n",
    "\n",
    "# dq/dr + 2q/r = pho*H --> T = -rho*H/(6*k) + c1/r + c0\n",
    "\n",
    "# Construct matrix A\n",
    "n_la = 5  # Define n_la based on your specific use case\n",
    "A = np.array([\n",
    "    [1.0, 1.0/rb, 0.0, 0.0, 0.0],\n",
    "    [0.0, 1.0, 0.0, 0.0, -rc*rb/(rb-rc)],\n",
    "    [0.0, 0.0, 1.0, 1.0/rc, -1.0],\n",
    "    [0.0, 0.0, 0.0, 1.0, rtc*rc/(rc-rtc)],\n",
    "    [0.0, 0.0, 0.0, 0.0, 1.0]\n",
    "])\n",
    "\n",
    "# Construct vector b\n",
    "b = np.zeros(n_la)\n",
    "b[0] = Tb + rhom*Hm/(6.0*km)*rb**2\n",
    "b[1] = Tb*rb*rc/(rb-rc)-rhom*Hm/(6.0*km)*(rc**2*rb+rc*rb**2)\n",
    "b[2] = rhoc*Hc/(6.0*kc)*rc**2\n",
    "b[3] = Ttc*rtc*rc/(rc-rtc)-rhoc*Hc/(6.0*kc)*(rc**2*rtc+rc*rtc**2)\n",
    "b[4] = (Ttc+Tb*km/kc*(rc-rtc)/(rb-rc))/(1+km/kc*(rc-rtc)/(rb-rc))\n",
    "\n",
    "# Solve the linear system A * x = b\n",
    "try:\n",
    "    x = np.linalg.solve(A, b)\n",
    "except np.linalg.LinAlgError:\n",
    "    print(\"Error: The solution could not be computed.\")\n",
    "    exit()\n",
    "\n",
    "# Extract the results\n",
    "c1m = x[0]\n",
    "c0m = x[1]\n",
    "c1c = x[2]\n",
    "c0c = x[3]\n",
    "Tc = x[4]  # New temperature at the core-mantle boundary\n",
    "\n",
    "#initially: Tc = 4172.9766230460846\n",
    "print(f\"Found Tc: {Tc} K\")\n",
    "print(Ttc-Tc)"
   ]
  },
  {
   "cell_type": "code",
   "execution_count": 17,
   "metadata": {},
   "outputs": [
    {
     "name": "stdout",
     "output_type": "stream",
     "text": [
      "Earth Core radius: 3481514.046046046 m\n",
      "Earth Inner core radius: 1215749.7297297297 m\n",
      "inner core volume of earth 4.26%\n",
      "initial concetration of light elements in earth 10.53%\n",
      "\n",
      "Core radius: 3062904.1492402 m\n",
      "Inner core boundary: 1813892.0064148 m\n",
      "inner core volume of M1_Fe3 20.77%\n",
      "outer core concentration of M1_Fe3 13.29%\n"
     ]
    }
   ],
   "source": [
    "data_PREM = np.genfromtxt('PREM500.csv', delimiter=',', skip_header=1)\n",
    "PREM_r = data_PREM[:,0]\n",
    "PREM_rho = data_PREM[:, 1]\n",
    "# Define new radius values (for example, n=1000)\n",
    "n=1000\n",
    "r = np.linspace(min(PREM_r), max(PREM_r), n)\n",
    "G = 6.6743e-11\n",
    "\n",
    "# Interpolate density to the new radius values\n",
    "density_interpolator = sp.interpolate.interp1d(PREM_r, PREM_rho, kind='linear', fill_value=\"extrapolate\")\n",
    "rho = density_interpolator(r)\n",
    "\n",
    "# Initialize arrays for mass, gravitational acceleration, and pressure\n",
    "M = np.zeros_like(r)\n",
    "g = np.zeros_like(r)\n",
    "P = np.zeros_like(r)\n",
    "\n",
    "# Compute mass, gravitational acceleration, and pressure\n",
    "for i in range(1, len(r)):\n",
    "    # Integrate mass up to radius r[i] using the trapezoidal rule\n",
    "    M[i] = 4 * np.pi * np.trapz(rho[:i+1] * r[:i+1]**2, r[:i+1])\n",
    "    \n",
    "    # Compute gravitational acceleration at radius r[i]\n",
    "    g[i] = G * M[i] / r[i]**2\n",
    "    \n",
    "    # Compute pressure at radius r[i] using hydrostatic equilibrium\n",
    "    P[i] = P[i-1] + np.trapz(-rho[i-1:i+1] * g[i-1:i+1], r[i-1:i+1])\n",
    "\n",
    "P = (P-P[-1])/1e9 # [GPa]\n",
    "\n",
    "# find r core where g is maximum\n",
    "rc = r[np.argmax(g)]\n",
    "\n",
    "# find the density jump at the inner core boundary where rho suddenly increases\n",
    "ri = r[np.argmax(-1*np.gradient(rho[:np.argmax(g)]))]\n",
    "\n",
    "def V(r):\n",
    "    return 4/3*np.pi*(r)**3\n",
    "\n",
    "x0 = 0.11\n",
    "x_ini = x0-x0*V(ri)/V(rc) #earth\n",
    "rc_p = planets[prof]['r'][0]\n",
    "ri_p = planets[prof]['r'][199]\n",
    "planets[prof]['x0'] = x_ini*V(rc)/(V(rc)-V(ri))\n",
    "\n",
    "print(f\"Earth Core radius: {rc} m\")\n",
    "print(f\"Earth Inner core radius: {ri} m\")\n",
    "print(f'Inner core volume of earth {ri**3/rc**3:.2%}')\n",
    "print(f'Initial concetration of light elements in earth {x_ini:.2%}')\n",
    "print()\n",
    "print(f\"Core radius: {rc_p} m\")\n",
    "print(f\"Inner core boundary: {ri_p} m\")\n",
    "print(f'Inner core volume of {prof} {ri_p**3/rc_p**3:.2%}')\n",
    "print(f'Outer core concentration of {prof} {x_ini*V(rc_p)/(V(rc_p)-V(ri_p)):.2%}')"
   ]
  },
  {
   "cell_type": "code",
   "execution_count": 56,
   "metadata": {},
   "outputs": [
    {
     "name": "stdout",
     "output_type": "stream",
     "text": [
      "5540.592144 7052.2082909733\n"
     ]
    },
    {
     "name": "stderr",
     "output_type": "stream",
     "text": [
      "C:\\Users\\louis\\AppData\\Local\\Temp\\ipykernel_38412\\2108763304.py:12: DeprecationWarning: 'scipy.integrate.simps' is deprecated in favour of 'scipy.integrate.simpson' and will be removed in SciPy 1.14.0\n",
      "  Temp[i] = T1[0] * np.exp(-sp.integrate.simps(alpha[:i]*g[:i]/Cp[:i],x=r[:i]))\n"
     ]
    },
    {
     "data": {
      "text/plain": [
       "[<matplotlib.lines.Line2D at 0x290a6219fd0>]"
      ]
     },
     "execution_count": 56,
     "metadata": {},
     "output_type": "execute_result"
    },
    {
     "data": {
      "image/png": "[encoded data removed]",
      "text/plain": [
       "<Figure size 1000x500 with 2 Axes>"
      ]
     },
     "metadata": {},
     "output_type": "display_data"
    }
   ],
   "source": [
    "T1 = np.array(planets[prof]['T'])\n",
    "r = np.array(planets[prof]['r'])\n",
    "g = np.array(planets[prof]['g'])\n",
    "alpha = np.array(planets[prof]['alpha'])\n",
    "Cp = np.array(planets[prof]['Cp'])\n",
    "\n",
    "def T(r):\n",
    "    Temp = np.zeros_like(r)\n",
    "    Temp[0] = T1[0]\n",
    "    for i in range(len(r)-1):\n",
    "        i = len(r)-(i+1)\n",
    "        Temp[i] = T1[0] * np.exp(-sp.integrate.simps(alpha[:i]*g[:i]/Cp[:i],x=r[:i]))\n",
    "    return Temp\n",
    "\n",
    "fig, ax = plt.subplots(1,2, figsize=(10,5))\n",
    "ax[0].plot(r, T1, label='T1',color = 'k')\n",
    "ax[0].plot(r, T(r), label='T2',color = 'r')"
   ]
  },
  {
   "cell_type": "code",
   "execution_count": null,
   "metadata": {},
   "outputs": [],
   "source": []
  }
 ],
 "metadata": {
  "kernelspec": {
   "display_name": "geodynamo",
   "language": "python",
   "name": "python3"
  },
  "language_info": {
   "codemirror_mode": {
    "name": "ipython",
    "version": 3
   },
   "file_extension": ".py",
   "mimetype": "text/x-python",
   "name": "python",
   "nbconvert_exporter": "python",
   "pygments_lexer": "ipython3",
   "version": "3.12.4"
  }
 },
 "nbformat": 4,
 "nbformat_minor": 2
}
