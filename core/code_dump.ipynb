{
 "cells": [
  {
   "cell_type": "code",
   "execution_count": 9,
   "metadata": {},
   "outputs": [],
   "source": [
    "import astropy.constants as ac\n",
    "import astropy.units as au\n",
    "import numpy as np"
   ]
  },
  {
   "cell_type": "code",
   "execution_count": null,
   "metadata": {},
   "outputs": [
    {
     "name": "stdout",
     "output_type": "stream",
     "text": [
      "2336.902835838171 Angstrom5 GPa\n",
      "2.3370516516897712 Angstrom5 TPa\n",
      "0.9999999999999998 Angstrom3\n"
     ]
    },
    {
     "data": {
      "text/plain": [
       "13.5687704"
      ]
     },
     "execution_count": 27,
     "metadata": {},
     "output_type": "execute_result"
    }
   ],
   "source": [
    "# print the Bohr radius in Angström\n",
    "aFG = (((3*np.pi**2)**(2/3)/5)*ac.hbar**2/ac.m_e).to(au.angstrom**5*au.GPa)\n",
    "print(aFG)\n",
    "print((ac.a0.to(au.angstrom))**5*56.32*au.TPa)\n",
    "print(((1*au.cm)**3).to(au.angstrom**3)/1e24)\n",
    "\n",
    "2*11.266*6.022e23/1e24"
   ]
  },
  {
   "cell_type": "code",
   "execution_count": 28,
   "metadata": {},
   "outputs": [],
   "source": [
    "def min_type(crys,a=None,c=None,d=None):\n",
    "\n",
    "    # bcc Fe-15Si case\n",
    "    if crys == 'bcc':\n",
    "        a = d * np.sqrt(2)\n",
    "        XFe = (85/MFe)/(85/MFe + 15/MSi)   # Molar fraction Fe-7Si\n",
    "        XSi = 1.0 - XFe  # Molar fraction Fe-7Si\n",
    "        V0 = 11.266*2\n",
    "        KT0 = 227.9 # +-24.0\n",
    "        KTP = 4.74\n",
    "        Z = XFe*26.0 + XSi*14 # average Atomic number\n",
    "\n",
    "    # hcp Fe-7Si case\n",
    "    elif crys == 'hcp':\n",
    "        XFe = (93/MFe)/(93/MFe + 7/MSi) \n",
    "        XSi = 1.0 - XFe\n",
    "        V0 = 11.658*6 # A^3\n",
    "        KT0 = 136.2 # +-20.0 GPa\n",
    "        KTP = 5.97 # +-0.47\n",
    "        Z = XFe*26.0 + XSi*14\n",
    "\n",
    "    else:\n",
    "        raise ValueError(\"Invalid crystal structure. Must be 'bcc' or 'hcp'.\")\n",
    "    \n",
    "    return [V0, KT0, KTP, Z, XFe, XSi]"
   ]
  },
  {
   "cell_type": "code",
   "execution_count": 1,
   "metadata": {},
   "outputs": [
    {
     "name": "stdout",
     "output_type": "stream",
     "text": [
      "0.25974881722697385\n",
      "(0.999923450164077, 7.654983592298387e-05)\n"
     ]
    }
   ],
   "source": [
    "MFe = 55.845  # Molar mass of iron [g/mol]\n",
    "MSi = 28.0855  # Molar mass of silicon [g/mol]\n",
    "wFe = 0.85\n",
    "wSi = 0.15\n",
    "XSi = wSi / MSi / (wFe / MFe + wSi / MSi) # molar fraction of Si in Fe-15Si\n",
    "print(XSi)\n",
    "\n",
    "def alloy_conc(wSi):\n",
    "    X2 =  wSi / XSi * MFe / (MFe*wSi + MSi*(1-wSi))\n",
    "    X1 = 1 - X2\n",
    "    return X1, X2\n",
    "\n",
    "print(alloy_conc(0.00001))"
   ]
  },
  {
   "cell_type": "code",
   "execution_count": 2,
   "metadata": {},
   "outputs": [
    {
     "ename": "NameError",
     "evalue": "name 'np' is not defined",
     "output_type": "error",
     "traceback": [
      "\u001b[1;31m---------------------------------------------------------------------------\u001b[0m",
      "\u001b[1;31mNameError\u001b[0m                                 Traceback (most recent call last)",
      "Cell \u001b[1;32mIn[2], line 24\u001b[0m\n\u001b[0;32m     20\u001b[0m \u001b[38;5;66;03m# dq/dr + 2q/r = pho*H --> T = -rho*H/(6*k) + c1/r + c0\u001b[39;00m\n\u001b[0;32m     21\u001b[0m \n\u001b[0;32m     22\u001b[0m \u001b[38;5;66;03m# Construct matrix A\u001b[39;00m\n\u001b[0;32m     23\u001b[0m n_la \u001b[38;5;241m=\u001b[39m \u001b[38;5;241m5\u001b[39m  \u001b[38;5;66;03m# Define n_la based on your specific use case\u001b[39;00m\n\u001b[1;32m---> 24\u001b[0m A \u001b[38;5;241m=\u001b[39m \u001b[43mnp\u001b[49m\u001b[38;5;241m.\u001b[39marray([\n\u001b[0;32m     25\u001b[0m     [\u001b[38;5;241m1.0\u001b[39m, \u001b[38;5;241m1.0\u001b[39m\u001b[38;5;241m/\u001b[39mrb, \u001b[38;5;241m0.0\u001b[39m, \u001b[38;5;241m0.0\u001b[39m, \u001b[38;5;241m0.0\u001b[39m],\n\u001b[0;32m     26\u001b[0m     [\u001b[38;5;241m0.0\u001b[39m, \u001b[38;5;241m1.0\u001b[39m, \u001b[38;5;241m0.0\u001b[39m, \u001b[38;5;241m0.0\u001b[39m, \u001b[38;5;241m-\u001b[39mrc\u001b[38;5;241m*\u001b[39mrb\u001b[38;5;241m/\u001b[39m(rb\u001b[38;5;241m-\u001b[39mrc)],\n\u001b[0;32m     27\u001b[0m     [\u001b[38;5;241m0.0\u001b[39m, \u001b[38;5;241m0.0\u001b[39m, \u001b[38;5;241m1.0\u001b[39m, \u001b[38;5;241m1.0\u001b[39m\u001b[38;5;241m/\u001b[39mrc, \u001b[38;5;241m-\u001b[39m\u001b[38;5;241m1.0\u001b[39m],\n\u001b[0;32m     28\u001b[0m     [\u001b[38;5;241m0.0\u001b[39m, \u001b[38;5;241m0.0\u001b[39m, \u001b[38;5;241m0.0\u001b[39m, \u001b[38;5;241m1.0\u001b[39m, rtc\u001b[38;5;241m*\u001b[39mrc\u001b[38;5;241m/\u001b[39m(rc\u001b[38;5;241m-\u001b[39mrtc)],\n\u001b[0;32m     29\u001b[0m     [\u001b[38;5;241m0.0\u001b[39m, \u001b[38;5;241m0.0\u001b[39m, \u001b[38;5;241m0.0\u001b[39m, \u001b[38;5;241m0.0\u001b[39m, \u001b[38;5;241m1.0\u001b[39m]\n\u001b[0;32m     30\u001b[0m ])\n\u001b[0;32m     32\u001b[0m \u001b[38;5;66;03m# Construct vector b\u001b[39;00m\n\u001b[0;32m     33\u001b[0m b \u001b[38;5;241m=\u001b[39m np\u001b[38;5;241m.\u001b[39mzeros(n_la)\n",
      "\u001b[1;31mNameError\u001b[0m: name 'np' is not defined"
     ]
    }
   ],
   "source": [
    "rtc = 3041843.3227286106\n",
    "rc = 60.0+rtc\n",
    "rb = 24905.865608419765+rc+rtc\n",
    "km = 9.9273790821881729 \n",
    "rhom = 5536.0  \n",
    "rhoc = 11546.0\n",
    "Hc = 1.0e-12\n",
    "Hm = 2.0e-12\n",
    "kc = 125.0\n",
    "Tb = 4173.3167184879076 \n",
    "\n",
    "Ttc = 4173.4654945261318\n",
    "\n",
    "# Placeholder values\n",
    "c1m = 0.0\n",
    "c0m = 0.0\n",
    "c1c = 0.0\n",
    "c0c = 0.0\n",
    "\n",
    "# dq/dr + 2q/r = pho*H --> T = -rho*H/(6*k) + c1/r + c0\n",
    "\n",
    "# Construct matrix A\n",
    "n_la = 5  # Define n_la based on your specific use case\n",
    "A = np.array([\n",
    "    [1.0, 1.0/rb, 0.0, 0.0, 0.0],\n",
    "    [0.0, 1.0, 0.0, 0.0, -rc*rb/(rb-rc)],\n",
    "    [0.0, 0.0, 1.0, 1.0/rc, -1.0],\n",
    "    [0.0, 0.0, 0.0, 1.0, rtc*rc/(rc-rtc)],\n",
    "    [0.0, 0.0, 0.0, 0.0, 1.0]\n",
    "])\n",
    "\n",
    "# Construct vector b\n",
    "b = np.zeros(n_la)\n",
    "b[0] = Tb + rhom*Hm/(6.0*km)*rb**2\n",
    "b[1] = Tb*rb*rc/(rb-rc)-rhom*Hm/(6.0*km)*(rc**2*rb+rc*rb**2)\n",
    "b[2] = rhoc*Hc/(6.0*kc)*rc**2\n",
    "b[3] = Ttc*rtc*rc/(rc-rtc)-rhoc*Hc/(6.0*kc)*(rc**2*rtc+rc*rtc**2)\n",
    "b[4] = (Ttc+Tb*km/kc*(rc-rtc)/(rb-rc))/(1+km/kc*(rc-rtc)/(rb-rc))\n",
    "\n",
    "# Solve the linear system A * x = b\n",
    "try:\n",
    "    x = np.linalg.solve(A, b)\n",
    "except np.linalg.LinAlgError:\n",
    "    print(\"Error: The solution could not be computed.\")\n",
    "    exit()\n",
    "\n",
    "# Extract the results\n",
    "c1m = x[0]\n",
    "c0m = x[1]\n",
    "c1c = x[2]\n",
    "c0c = x[3]\n",
    "Tc = x[4]  # New temperature at the core-mantle boundary\n",
    "\n",
    "#initially: Tc = 4172.9766230460846\n",
    "print(f\"Found Tc: {Tc} K\")\n",
    "print(Ttc-Tc)"
   ]
  },
  {
   "cell_type": "code",
   "execution_count": null,
   "metadata": {},
   "outputs": [],
   "source": [
    "prof = 'M1_Fe3'\n",
    "T = planets[prof]['T']\n",
    "r = planets[prof]['r']\n",
    "rho = planets[prof]['rho']\n",
    "Cp = planets[prof]['Cp']\n",
    "r = r[::-1]\n",
    "Tc = planets[prof]['T'][0]\n",
    "dr = r[0]-r[1]\n",
    "n = len(r)-1\n",
    "\n",
    "rho_c = rho[n]\n",
    "Cp_c = Cp[n]\n",
    "\n",
    "dTcdt = -5 * 1.0e-16\n",
    "\n",
    "Vc = 4/3*np.pi*r[0]**3\n",
    "\n",
    "QS1 = Vc * rho_c * Cp_c * sp.integrate.simpson(T,x=r,dx=dr)/Tc * 1.0e-12 * dTcdt\n",
    "QS2 = 4*np.pi*sp.integrate.simpson(Cp*rho*T*r**2,x=r,dx=dr)/Tc * 1.0e-12 * dTcdt\n",
    "\n",
    "print(len(r))\n",
    "print(r[0])\n",
    "print(f\"QS1: {QS1}\")\n",
    "print(f\"QS2: {QS2}\")\n",
    "print(f\"QS1-QS2: {round((QS1-QS2)/QS1*100,2)}%\")\n",
    "\n",
    "qad = 125 * planets[prof]['alpha'][n] * planets[prof]['g'][n] / planets[prof]['Cp'][n] * planets[prof]['T'][n]\n",
    "print(f\"q_ad: {qad}\")"
   ]
  }
 ],
 "metadata": {
  "kernelspec": {
   "display_name": "geodynamo",
   "language": "python",
   "name": "python3"
  },
  "language_info": {
   "codemirror_mode": {
    "name": "ipython",
    "version": 3
   },
   "file_extension": ".py",
   "mimetype": "text/x-python",
   "name": "python",
   "nbconvert_exporter": "python",
   "pygments_lexer": "ipython3",
   "version": "3.12.4"
  }
 },
 "nbformat": 4,
 "nbformat_minor": 2
}
